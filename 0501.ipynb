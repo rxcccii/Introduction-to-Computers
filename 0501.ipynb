{
  "nbformat": 4,
  "nbformat_minor": 0,
  "metadata": {
    "colab": {
      "provenance": [],
      "authorship_tag": "ABX9TyOokNWy56BChkOo6rsaNyll",
      "include_colab_link": true
    },
    "kernelspec": {
      "name": "python3",
      "display_name": "Python 3"
    },
    "language_info": {
      "name": "python"
    }
  },
  "cells": [
    {
      "cell_type": "markdown",
      "metadata": {
        "id": "view-in-github",
        "colab_type": "text"
      },
      "source": [
        "<a href=\"https://colab.research.google.com/github/rxcccii/Introduction-to-Computers/blob/main/0501.ipynb\" target=\"_parent\"><img src=\"https://colab.research.google.com/assets/colab-badge.svg\" alt=\"Open In Colab\"/></a>"
      ]
    },
    {
      "cell_type": "code",
      "execution_count": null,
      "metadata": {
        "colab": {
          "base_uri": "https://localhost:8080/"
        },
        "id": "pai-7TZq82yZ",
        "outputId": "1a656844-7813-4cd9-fcd5-cd4fc0424c69"
      },
      "outputs": [
        {
          "output_type": "stream",
          "name": "stdout",
          "text": [
            "0501\n"
          ]
        }
      ],
      "source": [
        "print(\"0501\")"
      ]
    },
    {
      "cell_type": "code",
      "source": [
        "本金 = int(input(\"請輸入本金存款金額:\"))\n",
        "存款 = 本金*(1.02)**6\n",
        "print(\"6年後存款為:\", 存款)"
      ],
      "metadata": {
        "id": "Dor7dx219Ak2",
        "colab": {
          "base_uri": "https://localhost:8080/"
        },
        "outputId": "c026a3fe-5727-4b53-f8d6-0f71e378dbd0"
      },
      "execution_count": 2,
      "outputs": [
        {
          "output_type": "stream",
          "name": "stdout",
          "text": [
            "請輸入本金存款金額:10000\n",
            "6年後存款為: 11261.62419264\n"
          ]
        }
      ]
    },
    {
      "cell_type": "code",
      "source": [
        "print(\"Hello World\")"
      ],
      "metadata": {
        "colab": {
          "base_uri": "https://localhost:8080/"
        },
        "id": "u0fXZ8HE-k3B",
        "outputId": "e6eb4676-e7e2-4db4-e28c-73247d035f1c"
      },
      "execution_count": 3,
      "outputs": [
        {
          "output_type": "stream",
          "name": "stdout",
          "text": [
            "Hello World\n"
          ]
        }
      ]
    },
    {
      "cell_type": "code",
      "source": [
        "F = float(input(\"華氏溫度為:\"))\n",
        "攝氏 = (F-32)*5/9\n",
        "print(\"攝氏溫度為:\" '%.1f'%攝氏)"
      ],
      "metadata": {
        "colab": {
          "base_uri": "https://localhost:8080/"
        },
        "id": "1Pf4EVcU-s1c",
        "outputId": "6400955a-145e-477b-8641-a7ee2ba8b1aa"
      },
      "execution_count": 7,
      "outputs": [
        {
          "output_type": "stream",
          "name": "stdout",
          "text": [
            "華氏溫度為:100\n",
            "攝氏溫度為:37.8\n"
          ]
        }
      ]
    },
    {
      "cell_type": "code",
      "source": [
        "a = int(input(\"輸入一個整數:\"))\n",
        "tmp = 0\n",
        "for i in range(1, a+1):\n",
        "  tmp +=i\n",
        "print(tmp)"
      ],
      "metadata": {
        "colab": {
          "base_uri": "https://localhost:8080/"
        },
        "id": "DCNKB-S4_QRs",
        "outputId": "185c97a3-3434-4f55-c0a4-e8a6b2982c8f"
      },
      "execution_count": 9,
      "outputs": [
        {
          "output_type": "stream",
          "name": "stdout",
          "text": [
            "輸入一個整數:5\n",
            "15\n"
          ]
        }
      ]
    },
    {
      "cell_type": "code",
      "source": [],
      "metadata": {
        "id": "z9cEclU9Ctc0"
      },
      "execution_count": null,
      "outputs": []
    }
  ]
}