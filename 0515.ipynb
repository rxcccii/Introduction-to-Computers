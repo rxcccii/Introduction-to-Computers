{
  "nbformat": 4,
  "nbformat_minor": 0,
  "metadata": {
    "colab": {
      "provenance": [],
      "authorship_tag": "ABX9TyPXZx62IGZBHbdYCgMFbmWK",
      "include_colab_link": true
    },
    "kernelspec": {
      "name": "python3",
      "display_name": "Python 3"
    },
    "language_info": {
      "name": "python"
    }
  },
  "cells": [
    {
      "cell_type": "markdown",
      "metadata": {
        "id": "view-in-github",
        "colab_type": "text"
      },
      "source": [
        "<a href=\"https://colab.research.google.com/github/rxcccii/Introduction-to-Computers/blob/main/0515.ipynb\" target=\"_parent\"><img src=\"https://colab.research.google.com/assets/colab-badge.svg\" alt=\"Open In Colab\"/></a>"
      ]
    },
    {
      "cell_type": "code",
      "execution_count": 1,
      "metadata": {
        "colab": {
          "base_uri": "https://localhost:8080/"
        },
        "id": "e7cyFbzjQqaD",
        "outputId": "92193543-2d78-4d7f-f0d3-8b13f00772a3"
      },
      "outputs": [
        {
          "output_type": "stream",
          "name": "stdout",
          "text": [
            "0515\n"
          ]
        }
      ],
      "source": [
        "print(\"0515\")"
      ]
    },
    {
      "cell_type": "code",
      "source": [
        "rain = str(input(\"今天會下雨嗎?\"))\n",
        "if (rain == \"Y\" or rain == \"y\"):\n",
        "  print(\"出門記得帶傘!\")\n",
        "elif(rain == \"N\" or rain == \"n\"):\n",
        "  print(\"不用帶傘\")\n",
        "else:\n",
        "  print(\"請重新輸入\")"
      ],
      "metadata": {
        "colab": {
          "base_uri": "https://localhost:8080/"
        },
        "id": "ncNWkvg5QtRv",
        "outputId": "fdffae12-36f4-4a0c-8339-88f19b694595"
      },
      "execution_count": 5,
      "outputs": [
        {
          "output_type": "stream",
          "name": "stdout",
          "text": [
            "今天會下雨嗎?y\n",
            "出門記得帶傘!\n"
          ]
        }
      ]
    },
    {
      "cell_type": "code",
      "source": [
        "體溫 = float(input(\"體溫:\"))\n",
        "if 體溫 >= 37.5:\n",
        "  print(\"體溫過高!\")\n",
        "elif 37.4 >= 體溫 >= 37:\n",
        "  print(\"體溫略高!\")\n",
        "elif 34 <= 體溫 <= 36.9:\n",
        "  print(\"體溫正常!\")\n",
        "else:\n",
        "  print(\"體溫異常，請重新測量!\")\n"
      ],
      "metadata": {
        "colab": {
          "base_uri": "https://localhost:8080/"
        },
        "id": "f_i24kOc0uP_",
        "outputId": "386eb3b1-8de4-43ed-8142-b19f042c8fe8"
      },
      "execution_count": 13,
      "outputs": [
        {
          "output_type": "stream",
          "name": "stdout",
          "text": [
            "體溫:34\n",
            "體溫正常!\n"
          ]
        }
      ]
    },
    {
      "cell_type": "code",
      "source": [
        "score = int(input(\"請輸入成績:\"))\n",
        "if score >= 90:\n",
        "    print('A')\n",
        "elif score >= 80:\n",
        "    print('B')\n",
        "elif score >= 70:\n",
        "    print('C')\n",
        "elif score >= 60:\n",
        "    print('D')\n",
        "else:\n",
        "    print('E')"
      ],
      "metadata": {
        "colab": {
          "base_uri": "https://localhost:8080/"
        },
        "id": "57hON9KE3SMf",
        "outputId": "8b979296-f426-4c5e-da03-315e97b95b7c"
      },
      "execution_count": 17,
      "outputs": [
        {
          "output_type": "stream",
          "name": "stdout",
          "text": [
            "請輸入成績:70\n",
            "C\n"
          ]
        }
      ]
    },
    {
      "cell_type": "code",
      "source": [
        "month = int(input(\"輸入月份:\"))\n",
        "if month == 3 or month == 4 or month == 5:\n",
        "  print(mon, \"月是春天!\")\n",
        "elif month == 6 or month == 7 or month == 8:\n",
        "  print(month, \"月是夏天!\")\n",
        "elif month == 9 or month == 10 or month == 11:\n",
        "  print(month, \"月是秋天!\")\n",
        "elif month == 12 or month == 1 or month == 2:\n",
        "  print(month, \"月是冬天!\")\n",
        "else:\n",
        "  print(\"月份不在範圍內!\")"
      ],
      "metadata": {
        "colab": {
          "base_uri": "https://localhost:8080/"
        },
        "id": "UIinZueo4jLu",
        "outputId": "2df609c3-02e1-44f7-8264-12b28806711e"
      },
      "execution_count": 24,
      "outputs": [
        {
          "output_type": "stream",
          "name": "stdout",
          "text": [
            "輸入月份:12\n",
            "12 月是冬天!\n"
          ]
        }
      ]
    },
    {
      "cell_type": "code",
      "source": [
        "rev = int(input(\"請輸入今年收入淨額:\"))\n",
        "if rev >= 2000000:\n",
        "  print(\"付稅金額:\", rev * 0.3)\n",
        "elif rev >= 1000000:\n",
        "  print(\"付稅金額:\", rev * 0.21)\n",
        "elif rev >= 600000:\n",
        "  print(\"付稅金額:\", rev * 0.13)\n",
        "elif rev >= 300000:\n",
        "  print(\"付稅金額:\", rev * 0.06)\n",
        "else:\n",
        "  print(\"付稅金額:0元\")"
      ],
      "metadata": {
        "colab": {
          "base_uri": "https://localhost:8080/"
        },
        "id": "7M2ymbbd5VbB",
        "outputId": "5025358c-e40e-4517-af24-c806c739b000"
      },
      "execution_count": 28,
      "outputs": [
        {
          "output_type": "stream",
          "name": "stdout",
          "text": [
            "請輸入今年收入淨額:2000000\n",
            "付稅金額: 600000.0\n"
          ]
        }
      ]
    }
  ]
}