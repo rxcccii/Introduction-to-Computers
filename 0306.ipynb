{
  "nbformat": 4,
  "nbformat_minor": 0,
  "metadata": {
    "colab": {
      "provenance": [],
      "authorship_tag": "ABX9TyMJ/1NmQ39iiEQ1Lq5xqXPT",
      "include_colab_link": true
    },
    "kernelspec": {
      "name": "python3",
      "display_name": "Python 3"
    },
    "language_info": {
      "name": "python"
    }
  },
  "cells": [
    {
      "cell_type": "markdown",
      "metadata": {
        "id": "view-in-github",
        "colab_type": "text"
      },
      "source": [
        "<a href=\"https://colab.research.google.com/github/rxcccii/Introduction-to-Computers/blob/main/0306.ipynb\" target=\"_parent\"><img src=\"https://colab.research.google.com/assets/colab-badge.svg\" alt=\"Open In Colab\"/></a>"
      ]
    },
    {
      "cell_type": "code",
      "execution_count": 1,
      "metadata": {
        "id": "HfvzFmsCzjqM",
        "colab": {
          "base_uri": "https://localhost:8080/"
        },
        "outputId": "193181fa-1e15-463d-fd82-f6b1d799a763"
      },
      "outputs": [
        {
          "output_type": "stream",
          "name": "stdout",
          "text": [
            "0306\n"
          ]
        }
      ],
      "source": [
        "print(\"0306\")"
      ]
    },
    {
      "cell_type": "code",
      "source": [
        "print(\"HI\")"
      ],
      "metadata": {
        "colab": {
          "base_uri": "https://localhost:8080/"
        },
        "id": "EtmX0Fh-0Tmu",
        "outputId": "5ba50f73-ceb8-4f0d-f4e8-4bc6650f5c53"
      },
      "execution_count": 2,
      "outputs": [
        {
          "output_type": "stream",
          "name": "stdout",
          "text": [
            "HI\n"
          ]
        }
      ]
    },
    {
      "cell_type": "code",
      "source": [
        "print(\"HI今天是0306今天是0306\")"
      ],
      "metadata": {
        "colab": {
          "base_uri": "https://localhost:8080/"
        },
        "id": "-rmCeYnJ0WHF",
        "outputId": "4aac1f9c-1eb5-4e69-9725-f1c7f6090dfc"
      },
      "execution_count": 3,
      "outputs": [
        {
          "output_type": "stream",
          "name": "stdout",
          "text": [
            "HI今天是0306今天是0306\n"
          ]
        }
      ]
    }
  ]
}